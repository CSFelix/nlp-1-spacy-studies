{
 "cells": [
  {
   "cell_type": "markdown",
   "id": "59b00ed8-e98f-40af-902c-6951f330b0c8",
   "metadata": {},
   "source": [
    "<center>    \n",
    "    <h1 id='spacy-notebook-5' style='color:#7159c1; font-size:350%'>Introduction to Word Embeddings</h1>\n",
    "    <i style='font-size:125%'>The basics of Word Embeddings</i>\n",
    "</center>\n",
    "\n",
    "> **Topics**\n",
    "\n",
    "```\n",
    "- 📘 Distributional Hypothesis\n",
    "- 📖 Distributional Hypothesis - Syntagmatic Structure\n",
    "- 📖 Distributional Hypothesis - Paradigmatic Structure\n",
    "- 🛻 Simple Exploration of Transformers\n",
    "```"
   ]
  },
  {
   "cell_type": "markdown",
   "id": "43ebe604-faf9-4b04-8da3-cfb24f3bb4de",
   "metadata": {},
   "source": [
    "<h1 id='0-distributional-hypothesis' style='color:#7159c1; border-bottom:3px solid #7159c1; letter-spacing:2px; font-family:JetBrains Mono; font-weight: bold; text-align:left; font-size:240%;padding:0'>📘 | Distributional Hypothesis</h1>\n",
    "\n",
    "Linguistic Elements, such as words, may be characterized by their distribution in the linguistic system. With it, given the verb 'to enjoy', we can think of words that are likely (have more probability) to come after and before it, as well as, think of other verbs to replace 'to enjoy' and keep the same meaning, such as 'to like'.\n",
    "\n",
    "These things can be achieve through `Distributional Hypothesis`, that can be applied in two ways, `Syntagmatic Structure` and `Paradigmatic Structure`, being:\n",
    "\n",
    "- **Syntagmatic Structure** - `analyses the probability of a word coming before or after a certain word in order to form a sentence. So, we can say that it analyses how words relate with them to form meaning sentences. Changing the order of the words might change or lose the whole meaning of a sentence. Besides, it's essential for Dependency Label and Part-of-Speech (POS) Tagging`;\n",
    "\n",
    "- **Paradigmatic Structure** - `analyses the probability of a word to be replaced by another one and the meaning of the sentence be kept the same. So, we can say that it analyses how words can be replaced for one another while keeping the same meaning and context, so, it's about word choices`."
   ]
  },
  {
   "cell_type": "code",
   "execution_count": 1,
   "id": "d683bde2-a7b8-4d2b-9e80-5455fde2cdb0",
   "metadata": {},
   "outputs": [],
   "source": [
    "import warnings\n",
    "warnings.filterwarnings('ignore')"
   ]
  },
  {
   "cell_type": "markdown",
   "id": "2c080501-03ca-4061-b263-a2cb7c7341cf",
   "metadata": {},
   "source": [
    "<h1 id='1-distributional-hypothesis-syntagmatic-structure' style='color:#7159c1; border-bottom:3px solid #7159c1; letter-spacing:2px; font-family:JetBrains Mono; font-weight: bold; text-align:left; font-size:240%;padding:0'>📖 | Distributional Hypothesis - Syntagmatic Structure</h1>\n",
    "\n",
    "As seen before, in `Syntagmatic Structure` we analyse the probability of a word coming before or after a certain word in order to form sentences with meaning, as well as Dependency Label and Part-of-Speech (POS) Tagging.\n",
    "\n",
    "In order to achieve it, we first should create a dataset containing all word lemmas (it's easier to work with lemmas rather than words in order to standard our data and turn the Bag-of-Words smaller and simpler), than we count the frequency of each lemma from all documents and then we calculate the similarity between each lemma-pairs (we will be sticking to Cosine Similarity in this notebook).\n",
    "\n",
    "In this notebook, we will be doing the simpler Syntagmatic Structure analysis, however, in a real world application, we should do some steps in order to achieve better results, such as:\n",
    "\n",
    "- Convert Words to their Lemma/Dictioanry Form (Lemmatization);\n",
    "  \n",
    "- Create a Bag-of-Words;\n",
    "  \n",
    "- Transform the Bag-of-Words into a Pandas\\Polars DataFrame (Word Vectors per Document);\n",
    "  \n",
    "- Calculate the Frequency of each Word into the Document;\n",
    "  \n",
    "- Calculate the Cosine Similarity between the Documents by the Word Frequency;\n",
    "  \n",
    "- We can remove Stop Words to only consider relevant words into Bag-of-Words;\n",
    "  \n",
    "- We can add Weights to the Frequencies with TF-IDF (Term Frequency - Inverse Document Frequency) taking ZIPF Law into consideration.\n",
    "\n",
    "Let's see in a practical example using `Polars` package!!"
   ]
  },
  {
   "cell_type": "code",
   "execution_count": 2,
   "id": "93742e56-e610-4eb9-91c4-1198e7570537",
   "metadata": {},
   "outputs": [],
   "source": [
    "# Processing Documents\n",
    "import spacy\n",
    "\n",
    "nlp_en_large = spacy.load('en_core_web_lg')\n",
    "\n",
    "texts = [\n",
    "  'Helsinki is the capital of Finland'\n",
    "  , 'Tallinn is the capital of Estonia'\n",
    "  , 'The two capitals are joined by a ferry connection'\n",
    "  , 'Travelling between Helsinki and Tallinn takes about two hours'\n",
    "  , 'Ferries depart from downtown Helsinki and Tallinn'\n",
    "]\n",
    "\n",
    "documents = list(nlp_en_large.pipe(texts))"
   ]
  },
  {
   "cell_type": "code",
   "execution_count": 3,
   "id": "0fbd6aae-3317-44ee-ab52-1caef220c334",
   "metadata": {},
   "outputs": [],
   "source": [
    "# Counting Lemmas and Creating Word Vector for Each Document\n",
    "from spacy.attrs import LEMMA\n",
    "import polars as pl\n",
    "\n",
    "lemma_counts = { index: document.count_by(LEMMA) for index, document in enumerate(documents) }\n",
    "lemma_counts = {\n",
    "    index: { documents[index].vocab[key].text: value for key, value in counter.items() }\n",
    "    for index, counter in lemma_counts.items()\n",
    "}\n",
    "lemma_counts = [{**value} for key, value in lemma_counts.items()]"
   ]
  },
  {
   "cell_type": "code",
   "execution_count": 8,
   "id": "e32c6b25-12ab-494b-bdd5-a9748dedd9e4",
   "metadata": {},
   "outputs": [
    {
     "data": {
      "text/html": [
       "<div><style>\n",
       ".dataframe > thead > tr,\n",
       ".dataframe > tbody > tr {\n",
       "  text-align: right;\n",
       "  white-space: pre-wrap;\n",
       "}\n",
       "</style>\n",
       "<small>shape: (23, 6)</small><table border=\"1\" class=\"dataframe\"><thead><tr><th>index</th><th>document_0</th><th>document_1</th><th>document_2</th><th>document_3</th><th>document_4</th></tr><tr><td>str</td><td>i64</td><td>i64</td><td>i64</td><td>i64</td><td>i64</td></tr></thead><tbody><tr><td>&quot;Helsinki&quot;</td><td>1</td><td>0</td><td>0</td><td>1</td><td>1</td></tr><tr><td>&quot;be&quot;</td><td>1</td><td>1</td><td>1</td><td>0</td><td>0</td></tr><tr><td>&quot;the&quot;</td><td>1</td><td>1</td><td>1</td><td>0</td><td>0</td></tr><tr><td>&quot;capital&quot;</td><td>1</td><td>1</td><td>1</td><td>0</td><td>0</td></tr><tr><td>&quot;of&quot;</td><td>1</td><td>1</td><td>0</td><td>0</td><td>0</td></tr><tr><td>&hellip;</td><td>&hellip;</td><td>&hellip;</td><td>&hellip;</td><td>&hellip;</td><td>&hellip;</td></tr><tr><td>&quot;about&quot;</td><td>0</td><td>0</td><td>0</td><td>1</td><td>0</td></tr><tr><td>&quot;hour&quot;</td><td>0</td><td>0</td><td>0</td><td>1</td><td>0</td></tr><tr><td>&quot;depart&quot;</td><td>0</td><td>0</td><td>0</td><td>0</td><td>1</td></tr><tr><td>&quot;from&quot;</td><td>0</td><td>0</td><td>0</td><td>0</td><td>1</td></tr><tr><td>&quot;downtown&quot;</td><td>0</td><td>0</td><td>0</td><td>0</td><td>1</td></tr></tbody></table></div>"
      ],
      "text/plain": [
       "shape: (23, 6)\n",
       "┌──────────┬────────────┬────────────┬────────────┬────────────┬────────────┐\n",
       "│ index    ┆ document_0 ┆ document_1 ┆ document_2 ┆ document_3 ┆ document_4 │\n",
       "│ ---      ┆ ---        ┆ ---        ┆ ---        ┆ ---        ┆ ---        │\n",
       "│ str      ┆ i64        ┆ i64        ┆ i64        ┆ i64        ┆ i64        │\n",
       "╞══════════╪════════════╪════════════╪════════════╪════════════╪════════════╡\n",
       "│ Helsinki ┆ 1          ┆ 0          ┆ 0          ┆ 1          ┆ 1          │\n",
       "│ be       ┆ 1          ┆ 1          ┆ 1          ┆ 0          ┆ 0          │\n",
       "│ the      ┆ 1          ┆ 1          ┆ 1          ┆ 0          ┆ 0          │\n",
       "│ capital  ┆ 1          ┆ 1          ┆ 1          ┆ 0          ┆ 0          │\n",
       "│ of       ┆ 1          ┆ 1          ┆ 0          ┆ 0          ┆ 0          │\n",
       "│ …        ┆ …          ┆ …          ┆ …          ┆ …          ┆ …          │\n",
       "│ about    ┆ 0          ┆ 0          ┆ 0          ┆ 1          ┆ 0          │\n",
       "│ hour     ┆ 0          ┆ 0          ┆ 0          ┆ 1          ┆ 0          │\n",
       "│ depart   ┆ 0          ┆ 0          ┆ 0          ┆ 0          ┆ 1          │\n",
       "│ from     ┆ 0          ┆ 0          ┆ 0          ┆ 0          ┆ 1          │\n",
       "│ downtown ┆ 0          ┆ 0          ┆ 0          ┆ 0          ┆ 1          │\n",
       "└──────────┴────────────┴────────────┴────────────┴────────────┴────────────┘"
      ]
     },
     "execution_count": 8,
     "metadata": {},
     "output_type": "execute_result"
    }
   ],
   "source": [
    "# Creating DataFrame from Word Vectors\n",
    "#\n",
    "#  - realize that 'polars' doesn't work with index in its DataFrames, so we can just ignore it\n",
    "#\n",
    "lemma_counts_df = pl.DataFrame(lemma_counts) \\\n",
    "  .fill_null(strategy='zero')                \\\n",
    "  .transpose(\n",
    "      include_header=True\n",
    "      , header_name='index'\n",
    "      , column_names=[f'document_{index}' for index in range(0, len(lemma_counts))]\n",
    "  )\n",
    "\n",
    "lemma_counts_df"
   ]
  },
  {
   "cell_type": "code",
   "execution_count": 9,
   "id": "0dda8e0a-b9f2-4616-be08-6aa23b166824",
   "metadata": {},
   "outputs": [
    {
     "data": {
      "text/plain": [
       "array([[1.        , 0.33333333, 0.33333333, 0.33333333, 0.40824829,\n",
       "        0.57735027, 0.66666667, 0.        , 0.40824829, 0.        ,\n",
       "        0.        , 0.        , 0.40824829, 0.        , 0.57735027,\n",
       "        0.57735027, 0.81649658, 0.57735027, 0.57735027, 0.57735027,\n",
       "        0.57735027, 0.57735027, 0.57735027],\n",
       "       [0.33333333, 1.        , 1.        , 1.        , 0.81649658,\n",
       "        0.57735027, 0.33333333, 0.57735027, 0.40824829, 0.57735027,\n",
       "        0.57735027, 0.57735027, 0.40824829, 0.57735027, 0.        ,\n",
       "        0.        , 0.        , 0.        , 0.        , 0.        ,\n",
       "        0.        , 0.        , 0.        ],\n",
       "       [0.33333333, 1.        , 1.        , 1.        , 0.81649658,\n",
       "        0.57735027, 0.33333333, 0.57735027, 0.40824829, 0.57735027,\n",
       "        0.57735027, 0.57735027, 0.40824829, 0.57735027, 0.        ,\n",
       "        0.        , 0.        , 0.        , 0.        , 0.        ,\n",
       "        0.        , 0.        , 0.        ],\n",
       "       [0.33333333, 1.        , 1.        , 1.        , 0.81649658,\n",
       "        0.57735027, 0.33333333, 0.57735027, 0.40824829, 0.57735027,\n",
       "        0.57735027, 0.57735027, 0.40824829, 0.57735027, 0.        ,\n",
       "        0.        , 0.        , 0.        , 0.        , 0.        ,\n",
       "        0.        , 0.        , 0.        ],\n",
       "       [0.40824829, 0.81649658, 0.81649658, 0.81649658, 1.        ,\n",
       "        0.70710678, 0.40824829, 0.70710678, 0.        , 0.        ,\n",
       "        0.        , 0.        , 0.        , 0.        , 0.        ,\n",
       "        0.        , 0.        , 0.        , 0.        , 0.        ,\n",
       "        0.        , 0.        , 0.        ],\n",
       "       [0.57735027, 0.57735027, 0.57735027, 0.57735027, 0.70710678,\n",
       "        1.        , 0.        , 0.        , 0.        , 0.        ,\n",
       "        0.        , 0.        , 0.        , 0.        , 0.        ,\n",
       "        0.        , 0.        , 0.        , 0.        , 0.        ,\n",
       "        0.        , 0.        , 0.        ],\n",
       "       [0.66666667, 0.33333333, 0.33333333, 0.33333333, 0.40824829,\n",
       "        0.        , 1.        , 0.57735027, 0.40824829, 0.        ,\n",
       "        0.        , 0.        , 0.40824829, 0.        , 0.57735027,\n",
       "        0.57735027, 0.81649658, 0.57735027, 0.57735027, 0.57735027,\n",
       "        0.57735027, 0.57735027, 0.57735027],\n",
       "       [0.        , 0.57735027, 0.57735027, 0.57735027, 0.70710678,\n",
       "        0.        , 0.57735027, 1.        , 0.        , 0.        ,\n",
       "        0.        , 0.        , 0.        , 0.        , 0.        ,\n",
       "        0.        , 0.        , 0.        , 0.        , 0.        ,\n",
       "        0.        , 0.        , 0.        ],\n",
       "       [0.40824829, 0.40824829, 0.40824829, 0.40824829, 0.        ,\n",
       "        0.        , 0.40824829, 0.        , 1.        , 0.70710678,\n",
       "        0.70710678, 0.70710678, 0.5       , 0.70710678, 0.70710678,\n",
       "        0.70710678, 0.5       , 0.70710678, 0.70710678, 0.70710678,\n",
       "        0.        , 0.        , 0.        ],\n",
       "       [0.        , 0.57735027, 0.57735027, 0.57735027, 0.        ,\n",
       "        0.        , 0.        , 0.        , 0.70710678, 1.        ,\n",
       "        1.        , 1.        , 0.70710678, 1.        , 0.        ,\n",
       "        0.        , 0.        , 0.        , 0.        , 0.        ,\n",
       "        0.        , 0.        , 0.        ],\n",
       "       [0.        , 0.57735027, 0.57735027, 0.57735027, 0.        ,\n",
       "        0.        , 0.        , 0.        , 0.70710678, 1.        ,\n",
       "        1.        , 1.        , 0.70710678, 1.        , 0.        ,\n",
       "        0.        , 0.        , 0.        , 0.        , 0.        ,\n",
       "        0.        , 0.        , 0.        ],\n",
       "       [0.        , 0.57735027, 0.57735027, 0.57735027, 0.        ,\n",
       "        0.        , 0.        , 0.        , 0.70710678, 1.        ,\n",
       "        1.        , 1.        , 0.70710678, 1.        , 0.        ,\n",
       "        0.        , 0.        , 0.        , 0.        , 0.        ,\n",
       "        0.        , 0.        , 0.        ],\n",
       "       [0.40824829, 0.40824829, 0.40824829, 0.40824829, 0.        ,\n",
       "        0.        , 0.40824829, 0.        , 0.5       , 0.70710678,\n",
       "        0.70710678, 0.70710678, 1.        , 0.70710678, 0.        ,\n",
       "        0.        , 0.5       , 0.        , 0.        , 0.        ,\n",
       "        0.70710678, 0.70710678, 0.70710678],\n",
       "       [0.        , 0.57735027, 0.57735027, 0.57735027, 0.        ,\n",
       "        0.        , 0.        , 0.        , 0.70710678, 1.        ,\n",
       "        1.        , 1.        , 0.70710678, 1.        , 0.        ,\n",
       "        0.        , 0.        , 0.        , 0.        , 0.        ,\n",
       "        0.        , 0.        , 0.        ],\n",
       "       [0.57735027, 0.        , 0.        , 0.        , 0.        ,\n",
       "        0.        , 0.57735027, 0.        , 0.70710678, 0.        ,\n",
       "        0.        , 0.        , 0.        , 0.        , 1.        ,\n",
       "        1.        , 0.70710678, 1.        , 1.        , 1.        ,\n",
       "        0.        , 0.        , 0.        ],\n",
       "       [0.57735027, 0.        , 0.        , 0.        , 0.        ,\n",
       "        0.        , 0.57735027, 0.        , 0.70710678, 0.        ,\n",
       "        0.        , 0.        , 0.        , 0.        , 1.        ,\n",
       "        1.        , 0.70710678, 1.        , 1.        , 1.        ,\n",
       "        0.        , 0.        , 0.        ],\n",
       "       [0.81649658, 0.        , 0.        , 0.        , 0.        ,\n",
       "        0.        , 0.81649658, 0.        , 0.5       , 0.        ,\n",
       "        0.        , 0.        , 0.5       , 0.        , 0.70710678,\n",
       "        0.70710678, 1.        , 0.70710678, 0.70710678, 0.70710678,\n",
       "        0.70710678, 0.70710678, 0.70710678],\n",
       "       [0.57735027, 0.        , 0.        , 0.        , 0.        ,\n",
       "        0.        , 0.57735027, 0.        , 0.70710678, 0.        ,\n",
       "        0.        , 0.        , 0.        , 0.        , 1.        ,\n",
       "        1.        , 0.70710678, 1.        , 1.        , 1.        ,\n",
       "        0.        , 0.        , 0.        ],\n",
       "       [0.57735027, 0.        , 0.        , 0.        , 0.        ,\n",
       "        0.        , 0.57735027, 0.        , 0.70710678, 0.        ,\n",
       "        0.        , 0.        , 0.        , 0.        , 1.        ,\n",
       "        1.        , 0.70710678, 1.        , 1.        , 1.        ,\n",
       "        0.        , 0.        , 0.        ],\n",
       "       [0.57735027, 0.        , 0.        , 0.        , 0.        ,\n",
       "        0.        , 0.57735027, 0.        , 0.70710678, 0.        ,\n",
       "        0.        , 0.        , 0.        , 0.        , 1.        ,\n",
       "        1.        , 0.70710678, 1.        , 1.        , 1.        ,\n",
       "        0.        , 0.        , 0.        ],\n",
       "       [0.57735027, 0.        , 0.        , 0.        , 0.        ,\n",
       "        0.        , 0.57735027, 0.        , 0.        , 0.        ,\n",
       "        0.        , 0.        , 0.70710678, 0.        , 0.        ,\n",
       "        0.        , 0.70710678, 0.        , 0.        , 0.        ,\n",
       "        1.        , 1.        , 1.        ],\n",
       "       [0.57735027, 0.        , 0.        , 0.        , 0.        ,\n",
       "        0.        , 0.57735027, 0.        , 0.        , 0.        ,\n",
       "        0.        , 0.        , 0.70710678, 0.        , 0.        ,\n",
       "        0.        , 0.70710678, 0.        , 0.        , 0.        ,\n",
       "        1.        , 1.        , 1.        ],\n",
       "       [0.57735027, 0.        , 0.        , 0.        , 0.        ,\n",
       "        0.        , 0.57735027, 0.        , 0.        , 0.        ,\n",
       "        0.        , 0.        , 0.70710678, 0.        , 0.        ,\n",
       "        0.        , 0.70710678, 0.        , 0.        , 0.        ,\n",
       "        1.        , 1.        , 1.        ]])"
      ]
     },
     "execution_count": 9,
     "metadata": {},
     "output_type": "execute_result"
    }
   ],
   "source": [
    "# Calculating Cosine Similarity\n",
    "from sklearn.metrics.pairwise import cosine_similarity\n",
    "\n",
    "similarities = cosine_similarity(lemma_counts_df[:, 1:6].to_numpy())\n",
    "similarities"
   ]
  },
  {
   "cell_type": "code",
   "execution_count": 10,
   "id": "5dc194f4-9231-41ee-af51-7cf5ab6ebbf4",
   "metadata": {},
   "outputs": [
    {
     "data": {
      "image/png": "[encoded data removed]",
      "text/plain": [
       "<Figure size 640x480 with 2 Axes>"
      ]
     },
     "metadata": {},
     "output_type": "display_data"
    }
   ],
   "source": [
    "# Plotting\n",
    "import matplotlib.pyplot as plt\n",
    "import mplcyberpunk\n",
    "import seaborn as sns\n",
    "\n",
    "words = lemma_counts_df[:, 0].to_numpy()\n",
    "\n",
    "sns.set_style('darkgrid')\n",
    "plt.style.use('cyberpunk')\n",
    "\n",
    "sns.heatmap(similarities, xticklabels=words, yticklabels=words)\n",
    "plt.show()"
   ]
  },
  {
   "cell_type": "markdown",
   "id": "5412efd4-3744-4840-9b09-a012b7ff5034",
   "metadata": {},
   "source": [
    "Analysing the similarities above, let's take a look at the right bottom corner. We see that `downtown` and `from` have a high similarity, indicating that there's a high probability that `from` will come before `downtown` and `downtown` will come after `from` in a sentence.\n",
    "\n",
    "On the other hand, taking a look at the left bottom corner, we realize that `downtown` and `capital` have low similarity, indicating that there's a low probability that `capital` will come before `downtown` and `downtown` will come after `capital` in a sentence."
   ]
  },
  {
   "cell_type": "markdown",
   "id": "4bd7f5f1-af48-433e-9c3c-c60429210e13",
   "metadata": {},
   "source": [
    "<h1 id='2-distributional-hypothesis-paradigmatic-structure' style='color:#7159c1; border-bottom:3px solid #7159c1; letter-spacing:2px; font-family:JetBrains Mono; font-weight: bold; text-align:left; font-size:240%;padding:0'>📖 | Distributional Hypothesis - Paradigmatic Structure</h1>\n",
    "\n",
    "In `Paradigmatic Structure`, we analyze the probability of a word to be replaced by another one and the meaning and context of the sentence be kept the same.\n",
    "\n",
    "To achieve it, we first must list all unique lemmas from the documents, define the minimum and maximum distance of the Tokens in order to them be considered `neighbors`, count the frequency of neighbors for each Token, and then calculate the similarity between the Tokens (for this task, we will use Cosine Similarity).\n",
    "\n",
    "The most similar the Tokens are, the most we can replace the words and keep the same meaning and context of the sentence!!"
   ]
  },
  {
   "cell_type": "code",
   "execution_count": 11,
   "id": "a6a94614-0809-4b99-90da-c316e3ad0bd7",
   "metadata": {},
   "outputs": [
    {
     "data": {
      "text/html": [
       "<div><style>\n",
       ".dataframe > thead > tr,\n",
       ".dataframe > tbody > tr {\n",
       "  text-align: right;\n",
       "  white-space: pre-wrap;\n",
       "}\n",
       "</style>\n",
       "<small>shape: (23, 24)</small><table border=\"1\" class=\"dataframe\"><thead><tr><th>index</th><th>Helsinki</th><th>be</th><th>the</th><th>capital</th><th>of</th><th>Finland</th><th>Tallinn</th><th>Estonia</th><th>two</th><th>join</th><th>by</th><th>a</th><th>ferry</th><th>connection</th><th>travel</th><th>between</th><th>and</th><th>take</th><th>about</th><th>hour</th><th>depart</th><th>from</th><th>downtown</th></tr><tr><td>str</td><td>i64</td><td>i64</td><td>i64</td><td>i64</td><td>i64</td><td>i64</td><td>i64</td><td>i64</td><td>i64</td><td>i64</td><td>i64</td><td>i64</td><td>i64</td><td>i64</td><td>i64</td><td>i64</td><td>i64</td><td>i64</td><td>i64</td><td>i64</td><td>i64</td><td>i64</td><td>i64</td></tr></thead><tbody><tr><td>&quot;Helsinki&quot;</td><td>0</td><td>0</td><td>0</td><td>0</td><td>0</td><td>0</td><td>0</td><td>0</td><td>0</td><td>0</td><td>0</td><td>0</td><td>0</td><td>0</td><td>0</td><td>0</td><td>0</td><td>0</td><td>0</td><td>0</td><td>0</td><td>0</td><td>0</td></tr><tr><td>&quot;be&quot;</td><td>0</td><td>0</td><td>0</td><td>0</td><td>0</td><td>0</td><td>0</td><td>0</td><td>0</td><td>0</td><td>0</td><td>0</td><td>0</td><td>0</td><td>0</td><td>0</td><td>0</td><td>0</td><td>0</td><td>0</td><td>0</td><td>0</td><td>0</td></tr><tr><td>&quot;the&quot;</td><td>0</td><td>0</td><td>0</td><td>0</td><td>0</td><td>0</td><td>0</td><td>0</td><td>0</td><td>0</td><td>0</td><td>0</td><td>0</td><td>0</td><td>0</td><td>0</td><td>0</td><td>0</td><td>0</td><td>0</td><td>0</td><td>0</td><td>0</td></tr><tr><td>&quot;capital&quot;</td><td>0</td><td>0</td><td>0</td><td>0</td><td>0</td><td>0</td><td>0</td><td>0</td><td>0</td><td>0</td><td>0</td><td>0</td><td>0</td><td>0</td><td>0</td><td>0</td><td>0</td><td>0</td><td>0</td><td>0</td><td>0</td><td>0</td><td>0</td></tr><tr><td>&quot;of&quot;</td><td>0</td><td>0</td><td>0</td><td>0</td><td>0</td><td>0</td><td>0</td><td>0</td><td>0</td><td>0</td><td>0</td><td>0</td><td>0</td><td>0</td><td>0</td><td>0</td><td>0</td><td>0</td><td>0</td><td>0</td><td>0</td><td>0</td><td>0</td></tr><tr><td>&hellip;</td><td>&hellip;</td><td>&hellip;</td><td>&hellip;</td><td>&hellip;</td><td>&hellip;</td><td>&hellip;</td><td>&hellip;</td><td>&hellip;</td><td>&hellip;</td><td>&hellip;</td><td>&hellip;</td><td>&hellip;</td><td>&hellip;</td><td>&hellip;</td><td>&hellip;</td><td>&hellip;</td><td>&hellip;</td><td>&hellip;</td><td>&hellip;</td><td>&hellip;</td><td>&hellip;</td><td>&hellip;</td><td>&hellip;</td></tr><tr><td>&quot;about&quot;</td><td>0</td><td>0</td><td>0</td><td>0</td><td>0</td><td>0</td><td>0</td><td>0</td><td>0</td><td>0</td><td>0</td><td>0</td><td>0</td><td>0</td><td>0</td><td>0</td><td>0</td><td>0</td><td>0</td><td>0</td><td>0</td><td>0</td><td>0</td></tr><tr><td>&quot;hour&quot;</td><td>0</td><td>0</td><td>0</td><td>0</td><td>0</td><td>0</td><td>0</td><td>0</td><td>0</td><td>0</td><td>0</td><td>0</td><td>0</td><td>0</td><td>0</td><td>0</td><td>0</td><td>0</td><td>0</td><td>0</td><td>0</td><td>0</td><td>0</td></tr><tr><td>&quot;depart&quot;</td><td>0</td><td>0</td><td>0</td><td>0</td><td>0</td><td>0</td><td>0</td><td>0</td><td>0</td><td>0</td><td>0</td><td>0</td><td>0</td><td>0</td><td>0</td><td>0</td><td>0</td><td>0</td><td>0</td><td>0</td><td>0</td><td>0</td><td>0</td></tr><tr><td>&quot;from&quot;</td><td>0</td><td>0</td><td>0</td><td>0</td><td>0</td><td>0</td><td>0</td><td>0</td><td>0</td><td>0</td><td>0</td><td>0</td><td>0</td><td>0</td><td>0</td><td>0</td><td>0</td><td>0</td><td>0</td><td>0</td><td>0</td><td>0</td><td>0</td></tr><tr><td>&quot;downtown&quot;</td><td>0</td><td>0</td><td>0</td><td>0</td><td>0</td><td>0</td><td>0</td><td>0</td><td>0</td><td>0</td><td>0</td><td>0</td><td>0</td><td>0</td><td>0</td><td>0</td><td>0</td><td>0</td><td>0</td><td>0</td><td>0</td><td>0</td><td>0</td></tr></tbody></table></div>"
      ],
      "text/plain": [
       "shape: (23, 24)\n",
       "┌──────────┬──────────┬─────┬─────┬───┬──────┬────────┬──────┬──────────┐\n",
       "│ index    ┆ Helsinki ┆ be  ┆ the ┆ … ┆ hour ┆ depart ┆ from ┆ downtown │\n",
       "│ ---      ┆ ---      ┆ --- ┆ --- ┆   ┆ ---  ┆ ---    ┆ ---  ┆ ---      │\n",
       "│ str      ┆ i64      ┆ i64 ┆ i64 ┆   ┆ i64  ┆ i64    ┆ i64  ┆ i64      │\n",
       "╞══════════╪══════════╪═════╪═════╪═══╪══════╪════════╪══════╪══════════╡\n",
       "│ Helsinki ┆ 0        ┆ 0   ┆ 0   ┆ … ┆ 0    ┆ 0      ┆ 0    ┆ 0        │\n",
       "│ be       ┆ 0        ┆ 0   ┆ 0   ┆ … ┆ 0    ┆ 0      ┆ 0    ┆ 0        │\n",
       "│ the      ┆ 0        ┆ 0   ┆ 0   ┆ … ┆ 0    ┆ 0      ┆ 0    ┆ 0        │\n",
       "│ capital  ┆ 0        ┆ 0   ┆ 0   ┆ … ┆ 0    ┆ 0      ┆ 0    ┆ 0        │\n",
       "│ of       ┆ 0        ┆ 0   ┆ 0   ┆ … ┆ 0    ┆ 0      ┆ 0    ┆ 0        │\n",
       "│ …        ┆ …        ┆ …   ┆ …   ┆ … ┆ …    ┆ …      ┆ …    ┆ …        │\n",
       "│ about    ┆ 0        ┆ 0   ┆ 0   ┆ … ┆ 0    ┆ 0      ┆ 0    ┆ 0        │\n",
       "│ hour     ┆ 0        ┆ 0   ┆ 0   ┆ … ┆ 0    ┆ 0      ┆ 0    ┆ 0        │\n",
       "│ depart   ┆ 0        ┆ 0   ┆ 0   ┆ … ┆ 0    ┆ 0      ┆ 0    ┆ 0        │\n",
       "│ from     ┆ 0        ┆ 0   ┆ 0   ┆ … ┆ 0    ┆ 0      ┆ 0    ┆ 0        │\n",
       "│ downtown ┆ 0        ┆ 0   ┆ 0   ┆ … ┆ 0    ┆ 0      ┆ 0    ┆ 0        │\n",
       "└──────────┴──────────┴─────┴─────┴───┴──────┴────────┴──────┴──────────┘"
      ]
     },
     "execution_count": 11,
     "metadata": {},
     "output_type": "execute_result"
    }
   ],
   "source": [
    "# Counting Unique Lemmas\n",
    "unique_lemmas = lemma_counts_df['index'].to_list()\n",
    "\n",
    "unique_lemmas_df = pl.DataFrame(\n",
    "    schema=[(column, pl.Int64) for column in unique_lemmas]\n",
    "    , data={column: [0] * len(unique_lemmas) for column in unique_lemmas}\n",
    ").insert_column(0, pl.Series('index', unique_lemmas))\n",
    "\n",
    "unique_lemmas_df"
   ]
  },
  {
   "cell_type": "code",
   "execution_count": 12,
   "id": "2e219716-f550-4d02-a0ee-5f4af35ca125",
   "metadata": {},
   "outputs": [
    {
     "data": {
      "text/html": [
       "<div><style>\n",
       ".dataframe > thead > tr,\n",
       ".dataframe > tbody > tr {\n",
       "  text-align: right;\n",
       "  white-space: pre-wrap;\n",
       "}\n",
       "</style>\n",
       "<small>shape: (23, 24)</small><table border=\"1\" class=\"dataframe\"><thead><tr><th>index</th><th>Helsinki</th><th>be</th><th>the</th><th>capital</th><th>of</th><th>Finland</th><th>Tallinn</th><th>Estonia</th><th>two</th><th>join</th><th>by</th><th>a</th><th>ferry</th><th>connection</th><th>travel</th><th>between</th><th>and</th><th>take</th><th>about</th><th>hour</th><th>depart</th><th>from</th><th>downtown</th></tr><tr><td>str</td><td>i64</td><td>i64</td><td>i64</td><td>i64</td><td>i64</td><td>i64</td><td>i64</td><td>i64</td><td>i64</td><td>i64</td><td>i64</td><td>i64</td><td>i64</td><td>i64</td><td>i64</td><td>i64</td><td>i64</td><td>i64</td><td>i64</td><td>i64</td><td>i64</td><td>i64</td><td>i64</td></tr></thead><tbody><tr><td>&quot;Helsinki&quot;</td><td>0</td><td>1</td><td>1</td><td>0</td><td>0</td><td>0</td><td>2</td><td>0</td><td>0</td><td>0</td><td>0</td><td>0</td><td>0</td><td>0</td><td>1</td><td>1</td><td>2</td><td>0</td><td>0</td><td>0</td><td>0</td><td>1</td><td>1</td></tr><tr><td>&quot;be&quot;</td><td>1</td><td>0</td><td>2</td><td>3</td><td>0</td><td>1</td><td>1</td><td>0</td><td>1</td><td>1</td><td>1</td><td>0</td><td>0</td><td>0</td><td>0</td><td>0</td><td>0</td><td>0</td><td>0</td><td>0</td><td>0</td><td>0</td><td>0</td></tr><tr><td>&quot;the&quot;</td><td>1</td><td>2</td><td>0</td><td>3</td><td>3</td><td>0</td><td>1</td><td>1</td><td>1</td><td>0</td><td>0</td><td>0</td><td>0</td><td>0</td><td>0</td><td>0</td><td>0</td><td>0</td><td>0</td><td>0</td><td>0</td><td>0</td><td>0</td></tr><tr><td>&quot;capital&quot;</td><td>0</td><td>3</td><td>3</td><td>0</td><td>2</td><td>1</td><td>0</td><td>1</td><td>1</td><td>1</td><td>0</td><td>0</td><td>0</td><td>0</td><td>0</td><td>0</td><td>0</td><td>0</td><td>0</td><td>0</td><td>0</td><td>0</td><td>0</td></tr><tr><td>&quot;of&quot;</td><td>0</td><td>0</td><td>3</td><td>2</td><td>0</td><td>1</td><td>1</td><td>1</td><td>0</td><td>0</td><td>0</td><td>0</td><td>0</td><td>0</td><td>0</td><td>0</td><td>0</td><td>0</td><td>0</td><td>0</td><td>0</td><td>0</td><td>0</td></tr><tr><td>&hellip;</td><td>&hellip;</td><td>&hellip;</td><td>&hellip;</td><td>&hellip;</td><td>&hellip;</td><td>&hellip;</td><td>&hellip;</td><td>&hellip;</td><td>&hellip;</td><td>&hellip;</td><td>&hellip;</td><td>&hellip;</td><td>&hellip;</td><td>&hellip;</td><td>&hellip;</td><td>&hellip;</td><td>&hellip;</td><td>&hellip;</td><td>&hellip;</td><td>&hellip;</td><td>&hellip;</td><td>&hellip;</td><td>&hellip;</td></tr><tr><td>&quot;about&quot;</td><td>0</td><td>0</td><td>0</td><td>0</td><td>0</td><td>0</td><td>1</td><td>0</td><td>1</td><td>0</td><td>0</td><td>0</td><td>0</td><td>0</td><td>0</td><td>0</td><td>0</td><td>1</td><td>0</td><td>1</td><td>0</td><td>0</td><td>0</td></tr><tr><td>&quot;hour&quot;</td><td>0</td><td>0</td><td>0</td><td>0</td><td>0</td><td>0</td><td>0</td><td>0</td><td>1</td><td>0</td><td>0</td><td>0</td><td>1</td><td>0</td><td>0</td><td>0</td><td>0</td><td>0</td><td>1</td><td>0</td><td>1</td><td>0</td><td>0</td></tr><tr><td>&quot;depart&quot;</td><td>0</td><td>0</td><td>0</td><td>0</td><td>0</td><td>0</td><td>0</td><td>0</td><td>0</td><td>0</td><td>0</td><td>0</td><td>1</td><td>0</td><td>0</td><td>0</td><td>0</td><td>0</td><td>0</td><td>1</td><td>0</td><td>1</td><td>1</td></tr><tr><td>&quot;from&quot;</td><td>1</td><td>0</td><td>0</td><td>0</td><td>0</td><td>0</td><td>0</td><td>0</td><td>0</td><td>0</td><td>0</td><td>0</td><td>1</td><td>0</td><td>0</td><td>0</td><td>0</td><td>0</td><td>0</td><td>0</td><td>1</td><td>0</td><td>1</td></tr><tr><td>&quot;downtown&quot;</td><td>1</td><td>0</td><td>0</td><td>0</td><td>0</td><td>0</td><td>0</td><td>0</td><td>0</td><td>0</td><td>0</td><td>0</td><td>0</td><td>0</td><td>0</td><td>0</td><td>1</td><td>0</td><td>0</td><td>0</td><td>1</td><td>1</td><td>0</td></tr></tbody></table></div>"
      ],
      "text/plain": [
       "shape: (23, 24)\n",
       "┌──────────┬──────────┬─────┬─────┬───┬──────┬────────┬──────┬──────────┐\n",
       "│ index    ┆ Helsinki ┆ be  ┆ the ┆ … ┆ hour ┆ depart ┆ from ┆ downtown │\n",
       "│ ---      ┆ ---      ┆ --- ┆ --- ┆   ┆ ---  ┆ ---    ┆ ---  ┆ ---      │\n",
       "│ str      ┆ i64      ┆ i64 ┆ i64 ┆   ┆ i64  ┆ i64    ┆ i64  ┆ i64      │\n",
       "╞══════════╪══════════╪═════╪═════╪═══╪══════╪════════╪══════╪══════════╡\n",
       "│ Helsinki ┆ 0        ┆ 1   ┆ 1   ┆ … ┆ 0    ┆ 0      ┆ 1    ┆ 1        │\n",
       "│ be       ┆ 1        ┆ 0   ┆ 2   ┆ … ┆ 0    ┆ 0      ┆ 0    ┆ 0        │\n",
       "│ the      ┆ 1        ┆ 2   ┆ 0   ┆ … ┆ 0    ┆ 0      ┆ 0    ┆ 0        │\n",
       "│ capital  ┆ 0        ┆ 3   ┆ 3   ┆ … ┆ 0    ┆ 0      ┆ 0    ┆ 0        │\n",
       "│ of       ┆ 0        ┆ 0   ┆ 3   ┆ … ┆ 0    ┆ 0      ┆ 0    ┆ 0        │\n",
       "│ …        ┆ …        ┆ …   ┆ …   ┆ … ┆ …    ┆ …      ┆ …    ┆ …        │\n",
       "│ about    ┆ 0        ┆ 0   ┆ 0   ┆ … ┆ 1    ┆ 0      ┆ 0    ┆ 0        │\n",
       "│ hour     ┆ 0        ┆ 0   ┆ 0   ┆ … ┆ 0    ┆ 1      ┆ 0    ┆ 0        │\n",
       "│ depart   ┆ 0        ┆ 0   ┆ 0   ┆ … ┆ 1    ┆ 0      ┆ 1    ┆ 1        │\n",
       "│ from     ┆ 1        ┆ 0   ┆ 0   ┆ … ┆ 0    ┆ 1      ┆ 0    ┆ 1        │\n",
       "│ downtown ┆ 1        ┆ 0   ┆ 0   ┆ … ┆ 0    ┆ 1      ┆ 1    ┆ 0        │\n",
       "└──────────┴──────────┴─────┴─────┴───┴──────┴────────┴──────┴──────────┘"
      ]
     },
     "execution_count": 12,
     "metadata": {},
     "output_type": "execute_result"
    }
   ],
   "source": [
    "# Counting Neighbors for Each Token\n",
    "from spacy.tokens import Doc\n",
    "\n",
    "combined_documents = Doc.from_docs(documents)\n",
    "neighbor_distances = [-2, -1, 1, 2]\n",
    "\n",
    "for token in combined_documents:\n",
    "    for distance in neighbor_distances:\n",
    "        try:\n",
    "            neighbor_lemma = token.nbor(distance).lemma_\n",
    "\n",
    "            unique_lemmas_df = unique_lemmas_df.with_columns(\n",
    "                pl.when(pl.col('index') == neighbor_lemma) # returns 'True' or 'False' for each row accordingly to the given condition\n",
    "                  .then(pl.col(token.lemma_) + 1)          # when 'True', updates the value accordingly to the given parameter\n",
    "                  .otherwise(pl.col(token.lemma_))         # when 'False', updates the value by the given parameter, in this scenario, we are keeping the current value\n",
    "                  .alias(token.lemma_)                     # forces the column name be the given parameter, in this scenario, we are forcing the column name be kept the same\n",
    "            )\n",
    "        except IndexError: continue\n",
    "\n",
    "unique_lemmas_df"
   ]
  },
  {
   "cell_type": "code",
   "execution_count": 14,
   "id": "75877a71-aa6d-4ae5-8ed6-9e8f61d2fa1f",
   "metadata": {},
   "outputs": [
    {
     "data": {
      "text/plain": [
       "array([[0.42857143]])"
      ]
     },
     "execution_count": 14,
     "metadata": {},
     "output_type": "execute_result"
    }
   ],
   "source": [
    "# Calculating Cosine Similarity between Tallinn and Helsinki\n",
    "tallinn_lemma_vector = unique_lemmas_df['Tallinn'].to_numpy()\n",
    "helsinki_lemma_vector = unique_lemmas_df['Helsinki'].to_numpy()\n",
    "similarity = cosine_similarity([tallinn_lemma_vector], [helsinki_lemma_vector])\n",
    "similarity"
   ]
  },
  {
   "cell_type": "markdown",
   "id": "2896a61a-b0ab-48a3-9648-c1d8bd53d84e",
   "metadata": {},
   "source": [
    "Given the documents and analysing the similarity between `Helsinki` and `Tallinn`, even though both are capitals, their similarity is low (`~42.8571%`), so it's not a good idea to replace 'Helsinki' by 'Tallinn', and vice-versa."
   ]
  },
  {
   "cell_type": "markdown",
   "id": "6ba6cfa5-4deb-45ad-9eb5-fe711213d8a6",
   "metadata": {},
   "source": [
    "<h1 id='3-simple-exploration-of-transformers' style='color:#7159c1; border-bottom:3px solid #7159c1; letter-spacing:2px; font-family:JetBrains Mono; font-weight: bold; text-align:left; font-size:240%;padding:0'>🛻 | Simple Exploration of Transformers</h1>\n",
    "\n",
    "Spacy contains four Language Models (LM) for English, the small (`en_core_web_sm`), middle (`en_core_web_md`), large (`en_core_web_lg`) and transformer (`en_core_web_trf`).\n",
    "\n",
    "Let's say that the first three ones (`small, middle and large`) are `Static Language Models`, that is, they cannot identify words with different meanings, such as the word `duck` as a verb and as a noun, since the word vector of both tokens will be the same.\n",
    "\n",
    "In order to avoid this problem, we can get advantage os `Transformers (trf)!!`. They give us more accuracy, on the other hand, require more computation cost and power."
   ]
  },
  {
   "cell_type": "code",
   "execution_count": 15,
   "id": "61b89d4b-55d5-48f6-940f-2fc333349721",
   "metadata": {},
   "outputs": [
    {
     "name": "stdout",
     "output_type": "stream",
     "text": [
      "- Cosine Similarity Between 'Goku' and 'Vegeta': 0.883222222328186\n"
     ]
    }
   ],
   "source": [
    "# Exploring a Statitc Model Word Vector\n",
    "#\n",
    "#  - Spacy provides a 300-dimensional word vector embedding\n",
    "#\n",
    "document = nlp_en_large('Hey it\\'s me, Goku and he\\'s Vegeta!')\n",
    "goku_token_word_vector = document[5]\n",
    "vegeta_token_word_vector = document[9]\n",
    "similarity = goku_token_word_vector.similarity(vegeta_token_word_vector)\n",
    "\n",
    "print(f'- Cosine Similarity Between \\'Goku\\' and \\'Vegeta\\': {similarity}')"
   ]
  },
  {
   "cell_type": "code",
   "execution_count": 16,
   "id": "ac494569-74a9-4f09-85d7-c229f7dac3ef",
   "metadata": {},
   "outputs": [
    {
     "name": "stdout",
     "output_type": "stream",
     "text": [
      "- Cosine Similarity Between 'Goku' and 'Vegeta': [[0.7608766]]\n"
     ]
    }
   ],
   "source": [
    "# Exploring Transformers Word Vector\n",
    "#\n",
    "#  - Spacy provides a 768-dimensional transformer vector\n",
    "#\n",
    "nlp_en_transformer = spacy.load('en_core_web_trf')\n",
    "document = nlp_en_transformer('Hey it\\'s me, Goku and he\\'s Vegeta!')\n",
    "\n",
    "document_transformer_vector = document._.trf_data\n",
    "goku_token_transformer_vector = document._.trf_data.all_outputs[0][5]\n",
    "vegeta_token_transformer_vector = document._.trf_data.all_outputs[0][9]\n",
    "\n",
    "similarity = cosine_similarity(\n",
    "    goku_token_transformer_vector.data\n",
    "    , vegeta_token_transformer_vector.data\n",
    ")\n",
    "\n",
    "print(f'- Cosine Similarity Between \\'Goku\\' and \\'Vegeta\\': {similarity}')"
   ]
  },
  {
   "cell_type": "markdown",
   "id": "e6fe44c3-e760-469a-9da5-0067b84ee769",
   "metadata": {},
   "source": [
    "---\n",
    "\n",
    "<h1 id='reach-me' style='color:#7159c1; border-bottom:3px solid #7159c1; letter-spacing:2px; font-family:JetBrains Mono; font-weight: bold; text-align:left; font-size:240%;padding:0'>📫 | Reach Me</h1>\n",
    "\n",
    "> **Email** - [csfelix08@gmail.com](mailto:csfelix08@gmail.com?)\n",
    "\n",
    "> **Linkedin** - [linkedin.com/in/csfelix/](https://www.linkedin.com/in/csfelix/)\n",
    "\n",
    "> **GitHub:** - [CSFelix](https://github.com/CSFelix)\n",
    "\n",
    "> **Kaggle** - [DSFelix](https://www.kaggle.com/dsfelix)\n",
    "\n",
    "> **Portfolio** - [CSFelix.io](https://csfelix.github.io/)."
   ]
  }
 ],
 "metadata": {
  "kernelspec": {
   "display_name": "Python 3 (ipykernel)",
   "language": "python",
   "name": "python3"
  },
  "language_info": {
   "codemirror_mode": {
    "name": "ipython",
    "version": 3
   },
   "file_extension": ".py",
   "mimetype": "text/x-python",
   "name": "python",
   "nbconvert_exporter": "python",
   "pygments_lexer": "ipython3",
   "version": "3.12.7"
  }
 },
 "nbformat": 4,
 "nbformat_minor": 5
}
