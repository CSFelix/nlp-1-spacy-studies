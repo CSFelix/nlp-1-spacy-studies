{
 "cells": [
  {
   "cell_type": "markdown",
   "id": "b45e01fd-bfd8-4de1-bf68-188dedce9a03",
   "metadata": {},
   "source": [
    "<center>    \n",
    "    <h1 id='spacy-notebook-9' style='color:#7159c1; font-size:350%'>CoNLL-U Files</h1>\n",
    "    <i style='font-size:125%'>Working with Annotated Datasets</i>\n",
    "</center>\n",
    "\n",
    "> **Topics**\n",
    "\n",
    "```\n",
    "- 🖊️ Introduction to CoNLL-U File\n",
    "- 👀 Exploring CoNLL-U File\n",
    "- ♻️ Converting CoNLL-U Metadata into Spacy Document\n",
    "- ♻️ Converting CoNLL-U Annotations into Spacy Document\n",
    "```"
   ]
  },
  {
   "cell_type": "markdown",
   "id": "5614d4cd-d4f9-4f70-a1b8-4276e60f692a",
   "metadata": {},
   "source": [
    "<h1 id='0-introduction-to-conll-u-file' style='color:#7159c1; border-bottom:3px solid #7159c1; letter-spacing:2px; font-family:JetBrains Mono; font-weight: bold; text-align:left; font-size:240%;padding:0'>🖊️ | Introduction to CoNLL-U File</h1>\n",
    "\n",
    "`CoNLL-U` is an annotation scema for describing linguistic features following `Universal Dependencies (UD)` Framework.\n",
    "\n",
    "It contains three types of lines: `comments`, `word` and `blank` lines. The comments consist of information about the document, such as document id, sentence id, raw text and sentence type; whereas blank lines consist of literally blank lines working and break lines (\\n). Word lines-wise, they contain the following information:\n",
    "\n",
    "- **ID** - `Index of the word in sequence`;\n",
    "- **FORM** - `The form of a word or punctuation symbol`;\n",
    "- **LEMMA** - `Lemma or the base form of a word`;\n",
    "- **UPOS** - `Universal part-of-speech tag`;\n",
    "- **XPOS** - `Language-specific part-of-speech tag`;\n",
    "- **FEATS** - `Morphological features`;\n",
    "- **HEAD** - `Syntactic head of the current word`;\n",
    "- **DEPREL** - `Universal dependency relation to the HEAD`;\n",
    "- **DEPS** - `Enhanced dependency relations`;\n",
    "- **MISC** - `Any additional annotations`."
   ]
  },
  {
   "cell_type": "markdown",
   "id": "84a770e1-aab3-4358-a1cb-3926a27d5ff8",
   "metadata": {},
   "source": [
    "<h1 id='1-exploring-conll-u-file' style='color:#7159c1; border-bottom:3px solid #7159c1; letter-spacing:2px; font-family:JetBrains Mono; font-weight: bold; text-align:left; font-size:240%;padding:0'>👀 | Exploring CoNLL-U File</h1>\n",
    "\n",
    "Let's explore a simple CoNLL-U File."
   ]
  },
  {
   "cell_type": "code",
   "execution_count": 1,
   "id": "e2ec5970-5180-4294-8363-2b5af43fdc7c",
   "metadata": {},
   "outputs": [
    {
     "data": {
      "text/plain": [
       "'# newdoc id = GUM_whow_parachute\\n# sent_id = GUM_whow_parachute-1\\n# text = How to Cope With a Double Parachute Failure\\n# s_type = inf\\n1\\tHow\\thow\\tSCONJ\\tWRB\\tPronType=Int\\t3\\tmark\\t_\\tDiscourse=preparation:1->11\\n2\\tto\\tto\\tPART\\tTO\\t_\\t3\\tmark\\t_\\t_\\n3\\tCope\\tCope\\tVERB\\tVB\\tVerbForm=Inf\\t0\\troot\\t_\\t_\\n4\\tWith\\twith\\tADP\\tIN\\t_\\t8\\tcase\\t_\\t_\\n5\\ta\\ta\\tDET\\tDT\\tDefinite=Ind|PronType=Art\\t8\\tdet\\t_\\tEntity=(event-1\\n6\\tDouble\\tdouble\\tADJ\\tJJ\\tDegree=Pos\\t8\\tamod\\t_\\t_\\n7\\tParachute\\tparachute\\tNOUN\\tNN\\tNumber=Sing\\t8\\tcompound\\t_\\tEntity=(object-2)\\n8\\tFailure\\tfailure\\tNOUN\\tNN\\tNumber=Sing\\t3\\tobl\\t_\\tEntity=event-1)\\n\\n# sent_id = GUM_whow_parachute-2\\n# text = While skydiving, it is possible (yet extremely unlikely) that both your primary and reserve parachutes will malfunction, leaving you with no method of reducing your velocity.\\n# s_type = decl\\n1\\tWhile\\twhile\\tSCONJ\\tIN\\t_\\t2\\tmark\\t_\\tDiscourse=circumstance:2->3\\n2\\tskydiving\\tskydiving\\tNOUN\\tNN\\tNumber=Sing\\t6\\tadvcl\\t_\\tEntity=(event-3)|SpaceAfter=No\\n3\\t,\\t,\\tPUNCT\\t,\\t_\\t2\\tpunct\\t_\\t_\\n4\\tit\\tit\\tPRON\\tPRP\\tCase=Nom|Gender=Neut|Num'"
      ]
     },
     "execution_count": 1,
     "metadata": {},
     "output_type": "execute_result"
    }
   ],
   "source": [
    "# ---- Importations ----\n",
    "import conllu # pip install conllu\n",
    "from pathlib import Path\n",
    "\n",
    "# ---- Constants ----\n",
    "DATASETS_PATH = Path('datasets')\n",
    "\n",
    "# ---- Reding File ----\n",
    "annotations = None\n",
    "\n",
    "with open(f'{DATASETS_PATH}/GUM_whow_parachute.conllu', mode='r', encoding='UTF-8') as file:\n",
    "    annotations = file.read()\n",
    "\n",
    "annotations[: 1_000]"
   ]
  },
  {
   "cell_type": "code",
   "execution_count": 2,
   "id": "37ad5c49-1dee-44f3-90b8-003110f3bd2e",
   "metadata": {},
   "outputs": [
    {
     "name": "stdout",
     "output_type": "stream",
     "text": [
      "- First Sentence: TokenList<How, to, Cope, With, a, Double, Parachute, Failure, metadata={newdoc id: \"GUM_whow_parachute\", sent_id: \"GUM_whow_parachute-1\", text: \"How to Cope With a Double Parachute Failure\", s_type: \"inf\"}>\n",
      "- First Sentence Metadata (Comment Lines): {'newdoc id': 'GUM_whow_parachute', 'sent_id': 'GUM_whow_parachute-1', 'text': 'How to Cope With a Double Parachute Failure', 's_type': 'inf'}\n",
      "- First Sentence Type Metadata: inf\n",
      "- First Sentence First Token: How\n",
      "- First Sentence First Token Lemma: how\n"
     ]
    }
   ],
   "source": [
    "# Exploring CoNLL-U File\n",
    "sentences = conllu.parse(annotations)\n",
    "print(f'- First Sentence: {sentences[0]}')\n",
    "print(f'- First Sentence Metadata (Comment Lines): {sentences[0].metadata}')\n",
    "print(f'- First Sentence Type Metadata: {sentences[0].metadata[\"s_type\"]}')\n",
    "print(f'- First Sentence First Token: {sentences[0][0]}')\n",
    "print(f'- First Sentence First Token Lemma: {sentences[0][0][\"lemma\"]}')"
   ]
  },
  {
   "cell_type": "markdown",
   "id": "c5f9aea5-ae22-4aa1-b8bd-9f10362cf0df",
   "metadata": {},
   "source": [
    "<h1 id='2-converting-conll-u-metadata-into-spacy-document' style='color:#7159c1; border-bottom:3px solid #7159c1; letter-spacing:2px; font-family:JetBrains Mono; font-weight: bold; text-align:left; font-size:240%;padding:0'>♻️ | Converting CoNLL-U Metadata into Spacy Document</h1>"
   ]
  },
  {
   "cell_type": "code",
   "execution_count": 4,
   "id": "69fcff86-12ba-4c89-92bc-3377106bc528",
   "metadata": {},
   "outputs": [
    {
     "name": "stdout",
     "output_type": "stream",
     "text": [
      "- Before Pipelines - How POS: \n",
      "---\n",
      "- Applying tok2vec Pipeline...\n",
      "- Applying tagger Pipeline...\n",
      "- Applying parser Pipeline...\n",
      "- Applying attribute_ruler Pipeline...\n",
      "- Applying lemmatizer Pipeline...\n",
      "- Applying ner Pipeline...\n",
      "---\n",
      "- After Pipelines - How POS: SCONJ\n"
     ]
    }
   ],
   "source": [
    "import spacy\n",
    "from spacy.tokens import Doc\n",
    "\n",
    "nlp_en_large = spacy.load('en_core_web_lg')\n",
    "\n",
    "first_sentence = sentences[0].metadata['text']\n",
    "words = first_sentence.split(' ')\n",
    "spaces = [True, True, True, True, True, True, True, False]\n",
    "sentence_starts = [True, False, False, False, False, False, False, False]\n",
    "\n",
    "document = Doc(\n",
    "    vocab=nlp_en_large.vocab\n",
    "    , words=words\n",
    "    , spaces=spaces\n",
    "    , sent_starts=sentence_starts\n",
    ")\n",
    "\n",
    "print(f'- Before Pipelines - {document[0]} POS: {document[0].pos_}')\n",
    "print('---')\n",
    "\n",
    "for name, component in nlp_en_large.pipeline:\n",
    "    print(f'- Applying {name} Pipeline...')\n",
    "    document = component(document)\n",
    "\n",
    "print('---')\n",
    "print(f'- After Pipelines - {document[0]} POS: {document[0].pos_}')"
   ]
  },
  {
   "cell_type": "markdown",
   "id": "f4ed14a9-83ce-4792-8867-3c90d79b6c15",
   "metadata": {},
   "source": [
    "<h1 id='3-converting-conll-u-annotations-into-spacy-documents' style='color:#7159c1; border-bottom:3px solid #7159c1; letter-spacing:2px; font-family:JetBrains Mono; font-weight: bold; text-align:left; font-size:240%;padding:0'>♻️ | Converting CoNLL-U Annotations into Spacy Document</h1>"
   ]
  },
  {
   "cell_type": "code",
   "execution_count": 8,
   "id": "df79d763-1325-4be4-9ae8-6ce68c0434b0",
   "metadata": {},
   "outputs": [
    {
     "name": "stdout",
     "output_type": "stream",
     "text": [
      "\u001b[38;5;4mℹ Grouping every 10 sentences into a document.\u001b[0m\n",
      "- Text: How\n",
      "- Coarse POS: SCONJ\n",
      "- Fine-Grained POS: WRB\n",
      "- Morpheme: PronType=Int\n",
      "- Dependency Label: mark\n",
      "- Syntatic Head: Cope\n",
      "---\n",
      "- Text: to\n",
      "- Coarse POS: PART\n",
      "- Fine-Grained POS: TO\n",
      "- Morpheme: \n",
      "- Dependency Label: mark\n",
      "- Syntatic Head: Cope\n",
      "---\n",
      "- Text: Cope\n",
      "- Coarse POS: VERB\n",
      "- Fine-Grained POS: VB\n",
      "- Morpheme: VerbForm=Inf\n",
      "- Dependency Label: ROOT\n",
      "- Syntatic Head: Cope\n",
      "---\n",
      "- Text: With\n",
      "- Coarse POS: ADP\n",
      "- Fine-Grained POS: IN\n",
      "- Morpheme: \n",
      "- Dependency Label: case\n",
      "- Syntatic Head: Failure\n",
      "---\n",
      "- Text: a\n",
      "- Coarse POS: DET\n",
      "- Fine-Grained POS: DT\n",
      "- Morpheme: Definite=Ind|PronType=Art\n",
      "- Dependency Label: det\n",
      "- Syntatic Head: Failure\n",
      "---\n",
      "- Text: Double\n",
      "- Coarse POS: ADJ\n",
      "- Fine-Grained POS: JJ\n",
      "- Morpheme: Degree=Pos\n",
      "- Dependency Label: amod\n",
      "- Syntatic Head: Failure\n",
      "---\n",
      "- Text: Parachute\n",
      "- Coarse POS: NOUN\n",
      "- Fine-Grained POS: NN\n",
      "- Morpheme: Number=Sing\n",
      "- Dependency Label: compound\n",
      "- Syntatic Head: Failure\n",
      "---\n",
      "- Text: Failure\n",
      "- Coarse POS: NOUN\n",
      "- Fine-Grained POS: NN\n",
      "- Morpheme: Number=Sing\n",
      "- Dependency Label: obl\n",
      "- Syntatic Head: Cope\n",
      "---\n"
     ]
    }
   ],
   "source": [
    "from spacy.training.converters import conllu_to_docs\n",
    "from spacy.tokens import Doc\n",
    "\n",
    "documents = list(conllu_to_docs(annotations, no_print=False))\n",
    "document = Doc.from_docs(documents)\n",
    "\n",
    "# Exploring the first 8 Tokens\n",
    "for token_index in range(0, 8):\n",
    "    token = document[token_index]\n",
    "    print(f'- Text: {token.text}')\n",
    "    print(f'- Coarse POS: {token.pos_}')\n",
    "    print(f'- Fine-Grained POS: {token.tag_}')\n",
    "    print(f'- Morpheme: {token.morph}')\n",
    "    print(f'- Dependency Label: {token.dep_}')\n",
    "    print(f'- Syntatic Head: {token.head}')\n",
    "    print('---')"
   ]
  },
  {
   "cell_type": "markdown",
   "id": "f6cad2e4-2767-4560-943c-3af9466af0e9",
   "metadata": {},
   "source": [
    "---\n",
    "\n",
    "<h1 id='reach-me' style='color:#7159c1; border-bottom:3px solid #7159c1; letter-spacing:2px; font-family:JetBrains Mono; font-weight: bold; text-align:left; font-size:240%;padding:0'>📫 | Reach Me</h1>\n",
    "\n",
    "> **Email** - [csfelix08@gmail.com](mailto:csfelix08@gmail.com?)\n",
    "\n",
    "> **Linkedin** - [linkedin.com/in/csfelix/](https://www.linkedin.com/in/csfelix/)\n",
    "\n",
    "> **GitHub:** - [CSFelix](https://github.com/CSFelix)\n",
    "\n",
    "> **Kaggle** - [DSFelix](https://www.kaggle.com/dsfelix)\n",
    "\n",
    "> **Portfolio** - [CSFelix.io](https://csfelix.github.io/)."
   ]
  }
 ],
 "metadata": {
  "kernelspec": {
   "display_name": "Python 3 (ipykernel)",
   "language": "python",
   "name": "python3"
  },
  "language_info": {
   "codemirror_mode": {
    "name": "ipython",
    "version": 3
   },
   "file_extension": ".py",
   "mimetype": "text/x-python",
   "name": "python",
   "nbconvert_exporter": "python",
   "pygments_lexer": "ipython3",
   "version": "3.12.7"
  }
 },
 "nbformat": 4,
 "nbformat_minor": 5
}
