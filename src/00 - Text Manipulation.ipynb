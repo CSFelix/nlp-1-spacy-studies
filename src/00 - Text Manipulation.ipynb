{
 "cells": [
  {
   "cell_type": "markdown",
   "id": "78d8447a-ea74-4da0-b058-ba08a4f44f27",
   "metadata": {},
   "source": [
    "<center>    \n",
    "    <h1 id='spacy-notebook-0' style='color:#7159c1; font-size:350%'>Text Manipulation</h1>\n",
    "    <i style='font-size:125%'>Basics of text Manipulation</i>\n",
    "</center>\n",
    "\n",
    "> **Topics**\n",
    "\n",
    "```\n",
    "- 📜 Types of Texts\n",
    "- 📦 Text Encodings\n",
    "- 🔆 Optical Character Recognition (OCR)\n",
    "- 🏷️ Processing Multiple Files\n",
    "```"
   ]
  },
  {
   "cell_type": "markdown",
   "id": "ec8e3b68-551d-4292-8b9f-be5c6dc794c2",
   "metadata": {},
   "source": [
    "<h1 id='0-types-of-texts' style='color:#7159c1; border-bottom:3px solid #7159c1; letter-spacing:2px; font-family:JetBrains Mono; font-weight: bold; text-align:left; font-size:240%;padding:0'>📜 | Types of Texts</h1>\n",
    "\n",
    "Computers can store texts in three different formats: `Rich Text`, `Structured Text` and `Plain Text`, being:\n",
    "\n",
    "- **Richt Text** - `texts that may contain formatting for better visualization, such as font sizes, bold, italic, images, tables, plots and much more. They are differently from Structured Texts, so instead of having the term wrapper by signgs that tell the text must be formatted, the formatting rules are inserted into the binaries of the Document. Examples: Microsoft Word and Libre Office Writer files`;\n",
    "  \n",
    "- **Structured Text** - `texts that may contain formatting for better visualzation, such as font sizes, bold, italic, images, tables, plots and much more. However, unlikely Rich Text, the terms should be wrapped by signs in order to tell the text must be formmated, so, we can say the rules are inserted into the text itself. Examples: HTML, XML, LaTeX and Markdown files`;\n",
    "  \n",
    "- **Plain Text** - `unlikely Rich and Structured Texts, Plain Texts don't contain any kind of formatting, that is, the text is the default as-is, without any different visual appearance and consisting of only letters, numbers, symbols, punctuations, spaces and line breaks. This is the best type of text to work with NLP. Examples: TXT, CSV and CoNLL-U Files`.\n",
    "\n",
    "Since Plain Texts are the best ones to work with not only NLP in Python, but with any Programming Langauge, and we normally stumble upon Rich and Structured Texts when scrapping samples for NLP projects; we must be able to convert Rich and Structured Texts into Plain Texts, as well as deal with traces left by conversion from them.\n",
    "\n",
    "It happens specially when our dataset has been extracted via `Optical Character Recognition (OCR)`."
   ]
  },
  {
   "cell_type": "markdown",
   "id": "e7e3d20f-6473-4f20-9de6-50cc4bcb9f66",
   "metadata": {},
   "source": [
    "<h1 id='1-text-encodings' style='color:#7159c1; border-bottom:3px solid #7159c1; letter-spacing:2px; font-family:JetBrains Mono; font-weight: bold; text-align:left; font-size:240%;padding:0'>📦 | Text Encodings</h1>\n",
    "\n",
    "Besides, all texts must be encoded in order to be read by computers, that is, each character from the text must have a respective number representation of itself understood by the computer. This number representation can be a decimal, binary or hexadecimal, being the last one more common.\n",
    "\n",
    "Currently, the two main encoding types are `ASCII` and `Unicode`, where:\n",
    "\n",
    "- **ASCII (American Standard Code for Information Interchange)** - `it's the first well succeeded text encoding rule, representing the characters by one byte and the numerical representation goes from 0 to 127. Even though ASCII fits very well in English, it cannot be used in all texts since it does not encode characters with accentuation and some special characters available in other languages, for instance, Portuguese ('ú', 'õ', 'ê', 'ç' and 'à')`;\n",
    "\n",
    "- **Unicode** - `it has been created to solve the accentuation and special characters problem encountered when working with ASCII. It's been widely applied to encode a variety of texts nowadays, being able to encode more than 1,100,000.00 characters, such as letters, symbols and even emojis!! An important thing about Unicode is that it can be implemented in different rules accordingly to the target language, being 'UTF-8' the most general and used one. Just for curiosity, Unicode codes are from U+000000 to U+10FFFF, being the first two digits decimals, and the last four, hexadecimals`.\n",
    "\n",
    "Thus, when dealing with a variety of texts and languages, it's recommended to work with `Plain Texts` encoded in `Unicode` format, more especifically in `UTF-8` rather than `UTF-16` and `UTF-32`.\n",
    "\n",
    "Besides, it's important to have in mind that ASCII is a subset of UTF-8, so we can encode an ASCII text to UTF-8, but we cannot do the opposite."
   ]
  },
  {
   "cell_type": "markdown",
   "id": "29b15d37-138a-45bf-b1b3-bdeba711e7d8",
   "metadata": {},
   "source": [
    "<h1 id='2-optical-character-recognition-ocr' style='color:#7159c1; border-bottom:3px solid #7159c1; letter-spacing:2px; font-family:JetBrains Mono; font-weight: bold; text-align:left; font-size:240%;padding:0'>🔆 | Optical Character Recognition (OCR)</h1>\n",
    "\n",
    "Without getting into details, `Optical Character Recognition (OCR)` is a technique of extracting texts from documents by scanning them. It's often used in NLP when we need to digitalize documents in order to process their contents.\n",
    "\n",
    "Sometimes, we can stumble upon with some issues when dealing with OCR, such as characters recognized wrongly, repeated characters and recognized characters that don't exist in the original document. These things are called `dirty` and it's our job to clean the digitalized texts!!\n",
    "\n",
    "Let's do an exercise cleaning a text file generated via OCR."
   ]
  },
  {
   "cell_type": "code",
   "execution_count": 33,
   "id": "1aae7dce-7c74-4d90-b73c-7807fb6e8005",
   "metadata": {},
   "outputs": [
    {
     "name": "stdout",
     "output_type": "stream",
     "text": [
      "{'encoding': 'UTF-8-SIG', 'confidence': 1.0, 'language': ''}\n"
     ]
    }
   ],
   "source": [
    "# Checking Encoding\n",
    "import chardet\n",
    "from pathlib import Path\n",
    "\n",
    "DATASETS_PATH = Path('datasets')\n",
    "guessed_encoding, detection_result = None, None\n",
    "\n",
    "# Modes:\n",
    "#   - 'with' blocks automatically close the file at their ending;\n",
    "#   - 'mode' parameter is opcional and can receive the following values:\n",
    "#       \\ 't': text mode (default);\n",
    "#       \\ 'b': binary mode;\n",
    "#       \\ 'r': reading;\n",
    "#       \\ 'w': overwriting;\n",
    "#       \\ 'a': appending;\n",
    "#       \\ 'x': open for exclusive creation, throwing an error if the file already exists;\n",
    "#       \\ '+': open for updating (reading and writing).\n",
    "#\n",
    "with open(f'{DATASETS_PATH}/NYT_1991-01-16-A15.txt', mode='rb') as file:\n",
    "    detection_result = chardet.detect(file.read(100_000))\n",
    "    guessed_encoding = detection_result['encoding']\n",
    "    print(detection_result)"
   ]
  },
  {
   "cell_type": "code",
   "execution_count": 34,
   "id": "7c54ba97-348e-4827-b571-17586351552f",
   "metadata": {},
   "outputs": [
    {
     "name": "stdout",
     "output_type": "stream",
     "text": [
      "- File Object: <_io.TextIOWrapper name='datasets/NYT_1991-01-16-A15.txt' mode='r' encoding='UTF-8-SIG'>\n",
      "- File Content: U.S. TAKING STEPS TO CURB TERRORISM: F.B.I. Is Ordered to Find Iraqis Whose Visas Have Expired\n",
      "By JAMES BARRON\n",
      "New York Times (1923-Current file); Jan 16, 1991;\n",
      "ProQuest Historical Newspapers: The New York Times with Index pg. A15\n",
      "U.S. TAKING STEPS TO CURB TERRORISM\n",
      "F.B.I. Is Ordered to Find Iraqis Whose Visas Have Expired\n",
      "By JAMES BARRON\n",
      "   The Federal Bureau of Investigation has been ordered to track down as many as 3,000 Iraqis in this country whose visas have expired, the Justice Department said yesterday.\n",
      "   The announcement came as security precautions were tightened throughout the United States. From financial exchanges in lower Manhattan to cloakrooms in Washington and homeless shelters in California, unfamiliar rituals were the order of the day. In many cities, identification badges were being given close scrutiny in office buildings that used to be open to anyone.\n",
      "   Concerns about terrorist attack disrupted other daily routines as well. No fast-food deliveries are being allowed at the New York Stock Exchange. And metal detectors at the Los Angeles International Airport were fine-tuned until they were so sensitive that “even your keys will set it off,\" the airport manager said. Airport officials in Dallas said the Federal Aviation Administration had ordered them to post uniformed guards near ticket counters.\n",
      "   There were new precautions at many levels of government. A larger than usual complement of Secret Service agents is on duty at the White House, and marines at the Twentynine Palms training base in California were advised to drive with their car windows rolled up and not to go jogging alone.\n",
      "Potential Schemes Uncovered\n",
      "\n",
      "Andrea Mohln/Tho New York Times\n",
      "Secret Service agents on guard duty outside the Iraqi Embassy yesterday in Washington. Security precautions were being taken around the country as the deadline for Iraq to withdraw from Kuwait neared.\n",
      "   Law-enforcement officials said they had found no evidence that terrorist groups had chosen specific targets in New York. But in Washington, a high- ranking official said more than five potential schemes that could result in terrorist acts had been uncovered since Iraq invaded Kuwait on Aug. 2.\n",
      "   Each of these involved people who appeared to be \"lone zealots” acting independently of groups allied with President Saddam Hussein of Iraq, the official said. He would not provide further details.\n",
      "   Only one person has been arrested in these incidents, but the investigations\n",
      "are continuing. Some of the suspects have left the country, one official said. But he refused to say who they were or why they were allowed to go.\n",
      "   Foreigners who remain in the United States after the expiration of their visas are subject to immediate expulsion, but a senior official in the Justice Department said the purpose of having the F.B.I. track down Iraqis whose visas had expired was to determine “who is here, where they are and why they stayed.’’\n",
      "   As the hours ticked by and the United Nations deadline for Iraq’s withdrawal from Kuwait neared and then passed, with no evidence of terrorist actions, fear outpaced reality. Some New Yorkers filled their bathtubs with water and stocked up on powdered milk. And some decided to stay close to home. Jonathan Bond, president of the Ktrsh- enbaum & Bond advertising agency in SoHo, canceled plans to fly to Toronto today to make a presentation to a new client.\n",
      "   \"New York is a terrorist target,\" he said. “It's the first day of a war and I’m not going near an airport. Anything that needs to be done we can do by fax machine.\"\n",
      "   In Washington there was increased security and alertness, even though the Government seemed to be trying to avoid giving the impression that the nation was on the brink of war.\n",
      "   At the Pentagon, security guards were jittery after an unattended package was found early yesterday near an entrance to the Metro subway system. The package turned out to be be harmless, but officials canceled most tours of the Pentagon later in the day.\n",
      "   The Secret Service would not talk about the precise steps being taken to increase security for high-ranking offi cials. \"We’re redefining and testing out systems and trying to be prepared, said K. David Homes, a spokesman for the Secret Service.\n",
      "   Access to some state capitols has also been tightened. State troopers were stationed at entrances to the Louisiana Statehouse and at the Governor's Mansion in Baton Rouge.\n",
      "   In Albany, Gov. Mario M. Cuomo ordered the state police to stay in con stant communication with the F.B.I., although he said that \"there is no threat that I’m aware of anywhere in the state.”\n",
      "   The New York City Police Depart\n",
      "ment received 54 calls about bombs yesterday, nearly four times the normal number, said Sgt. Peter Berry, a police spokesman. But he said no bombs were found, and most of the reports turned out to be unattended packages or lost luggage.\n",
      "   That was also a concern at airports around the country. At Logan International Airport in Boston, the public address system crackled with caution. ‘‘Please be advised,” one warning said. “Any luggage left unattended will be immediately ticketed and towed.”\n",
      "   The no-nonsense mood extended to I non-passengers. A state police officer stopped a reporter from questioning a guard at Logan, saying it was \"a breach of the security guard’s contract\" to talk about anti-terrorism precautions.\n",
      "   In Dallas, airport officials said the F.A.A. had raised the level of security by one step under the agency's five- step security plan. Managers at Dallas- Fort Worth Airport and Love Field said they were operating at level 2-A, the middle step and the first at which an airport is required to post uniformed guards at ticket counters.\n",
      "Reproduced with permission of the copyright owner. Further reproduction prohibited without permission.\n",
      "\n"
     ]
    }
   ],
   "source": [
    "# Reading the File\n",
    "text_content = None\n",
    "\n",
    "with open(f'{DATASETS_PATH}/NYT_1991-01-16-A15.txt', mode='r', encoding=guessed_encoding) as file:\n",
    "    text_content = file.read()\n",
    "\n",
    "print(f'- File Object: {file}')\n",
    "print(f'- File Content: {text_content}')"
   ]
  },
  {
   "cell_type": "code",
   "execution_count": 35,
   "id": "b2c5b1e4-8ba2-48ae-b12f-33bcb8623cb3",
   "metadata": {},
   "outputs": [],
   "source": [
    "# Removing all Break Lines and Multiple Occurrences of Dots and Commas\n",
    "import re\n",
    "\n",
    "pattern = re.compile(r'(\\n|   )') # raw string that identifies break lines and three occurrences of spaces\n",
    "cleared_text_content = pattern.sub(repl='', string=text_content)"
   ]
  },
  {
   "cell_type": "code",
   "execution_count": 36,
   "id": "b3eec5c4-8054-4784-943e-cb920523f292",
   "metadata": {},
   "outputs": [
    {
     "name": "stdout",
     "output_type": "stream",
     "text": [
      "- Cleared Text: U.S. TAKING STEPS TO CURB TERRORISM: F.B.I. Is Ordered to Find Iraqis Whose Visas Have ExpiredBy JAMES BARRONNew York Times (1923-Current file); Jan 16, 1991;ProQuest Historical Newspapers: The New York Times with Index pg. A15U.S. TAKING STEPS TO CURB TERRORISMF.B.I. Is Ordered to Find Iraqis Whose Visas Have ExpiredBy JAMES BARRONThe Federal Bureau of Investigation has been ordered to track down as many as 3,000 Iraqis in this country whose visas have expired, the Justice Department said yesterday.The announcement came as security precautions were tightened throughout the United States. From financial exchanges in lower Manhattan to cloakrooms in Washington and homeless shelters in California, unfamiliar rituals were the order of the day. In many cities, identification badges were being given close scrutiny in office buildings that used to be open to anyone.Concerns about terrorist attack disrupted other daily routines as well. No fast-food deliveries are being allowed at the New York Stock Exchange. And metal detectors at the Los Angeles International Airport were fine-tuned until they were so sensitive that \"even your keys will set it off,\" the airport manager said. Airport officials in Dallas said the Federal Aviation Administration had ordered them to post uniformed guards near ticket counters.There were new precautions at many levels of government. A larger than usual complement of Secret Service agents is on duty at the White House, and marines at the Twentynine Palms training base in California were advised to drive with their car windows rolled up and not to go jogging alone.Potential Schemes UncoveredAndrea Mohln/Tho New York TimesSecret Service agents on guard duty outside the Iraqi Embassy yesterday in Washington. Security precautions were being taken around the country as the deadline for Iraq to withdraw from Kuwait neared.Law-enforcement officials said they had found no evidence that terrorist groups had chosen specific targets in New York. But in Washington, a high- ranking official said more than five potential schemes that could result in terrorist acts had been uncovered since Iraq invaded Kuwait on Aug. 2.Each of these involved people who appeared to be \"lone zealots\" acting independently of groups allied with President Saddam Hussein of Iraq, the official said. He would not provide further details.Only one person has been arrested in these incidents, but the investigationsare continuing. Some of the suspects have left the country, one official said. But he refused to say who they were or why they were allowed to go.Foreigners who remain in the United States after the expiration of their visas are subject to immediate expulsion, but a senior official in the Justice Department said the purpose of having the F.B.I. track down Iraqis whose visas had expired was to determine \"who is here, where they are and why they stayed.\"As the hours ticked by and the United Nations deadline for Iraq’s withdrawal from Kuwait neared and then passed, with no evidence of terrorist actions, fear outpaced reality. Some New Yorkers filled their bathtubs with water and stocked up on powdered milk. And some decided to stay close to home. Jonathan Bond, president of the Ktrsh- enbaum & Bond advertising agency in SoHo, canceled plans to fly to Toronto today to make a presentation to a new client.\"New York is a terrorist target,\" he said. \"It's the first day of a war and I’m not going near an airport. Anything that needs to be done we can do by fax machine.\"In Washington there was increased security and alertness, even though the Government seemed to be trying to avoid giving the impression that the nation was on the brink of war.At the Pentagon, security guards were jittery after an unattended package was found early yesterday near an entrance to the Metro subway system. The package turned out to be be harmless, but officials canceled most tours of the Pentagon later in the day.The Secret Service would not talk about the precise steps being taken to increase security for high-ranking offi cials. \"We’re redefining and testing out systems and trying to be prepared, said K. David Homes, a spokesman for the Secret Service.Access to some state capitols has also been tightened. State troopers were stationed at entrances to the Louisiana Statehouse and at the Governor's Mansion in Baton Rouge.In Albany, Gov. Mario M. Cuomo ordered the state police to stay in con stant communication with the F.B.I., although he said that \"there is no threat that I’m aware of anywhere in the state.\"The New York City Police Department received 54 calls about bombs yesterday, nearly four times the normal number, said Sgt. Peter Berry, a police spokesman. But he said no bombs were found, and most of the reports turned out to be unattended packages or lost luggage.That was also a concern at airports around the country. At Logan International Airport in Boston, the public address system crackled with caution. ‘‘Please be advised,\" one warning said. \"Any luggage left unattended will be immediately ticketed and towed.\"The no-nonsense mood extended to I non-passengers. A state police officer stopped a reporter from questioning a guard at Logan, saying it was \"a breach of the security guard’s contract\" to talk about anti-terrorism precautions.In Dallas, airport officials said the F.A.A. had raised the level of security by one step under the agency's five- step security plan. Managers at Dallas- Fort Worth Airport and Love Field said they were operating at level 2-A, the middle step and the first at which an airport is required to post uniformed guards at ticket counters.Reproduced with permission of the copyright owner. Further reproduction prohibited without permission.\n"
     ]
    }
   ],
   "source": [
    "# Removing Dirty Characters:\n",
    "#\n",
    "#   - if we look closer to the text, we will realize that the document uses different characters\n",
    "# for quotations:`“, ´´, ”, ’’, \"`. It probably has happened because the file has been extracted\n",
    "# via `Optical Character Recognition (OCR)` that wasn't able to accuratly recognize the double\n",
    "# quotes (\") properly in all its occurencies;\n",
    "#\n",
    "#   - in order to keep a pattern for quotations, let's replace all these characters by a double\n",
    "# quotes (\").\n",
    "#\n",
    "pattern_2 = re.compile(r'(“|´´|”|’’)')\n",
    "cleared_text_content = pattern_2.sub(repl='\"', string=cleared_text_content)\n",
    "print(f'- Cleared Text: {cleared_text_content}')"
   ]
  },
  {
   "cell_type": "markdown",
   "id": "d46e4c0e-3bf6-42bf-baef-b0ea112a5c42",
   "metadata": {},
   "source": [
    "<h1 id='3-processing-multiple-files' style='color:#7159c1; border-bottom:3px solid #7159c1; letter-spacing:2px; font-family:JetBrains Mono; font-weight: bold; text-align:left; font-size:240%;padding:0'>🏷️ | Processing Multiple Files</h1>\n",
    "\n",
    "Sometimes, we will be working not only with a single file, but yes, with multiple ones and, believe me, the action of opening each one with `with-blocks` and reading their content is booring, even if we create a `for-loop` to the task.\n",
    "\n",
    "Besides, Windows, Linux and MacOS have differences in their file system paths, using different characters and structures to access files into the Machine.\n",
    "\n",
    "So, in order to read multiple files and deal with different file system path structures, we can stick to using `pathlib` package (we already used it in the previous code), killing two birds with one stone!!\n",
    "\n",
    "Oh, and with `pathlib`, we can even apply filters to only consider specific files. For instance, picture a folder containing text (text) and comma-sepparated-values (csv) files and we desire to only read the text ones; to do it, we can simply use the patter `*.txt` that tells to read all files that contains the `.txt` as extension."
   ]
  },
  {
   "cell_type": "code",
   "execution_count": 41,
   "id": "9274d5a6-1934-4afa-bb3a-30a47714d068",
   "metadata": {},
   "outputs": [
    {
     "data": {
      "text/plain": [
       "WindowsPath('datasets')"
      ]
     },
     "execution_count": 41,
     "metadata": {},
     "output_type": "execute_result"
    }
   ],
   "source": [
    "# Exploring Datasets Path\n",
    "DATASETS_PATH = Path('datasets')\n",
    "DATASETS_PATH"
   ]
  },
  {
   "cell_type": "code",
   "execution_count": 42,
   "id": "e2355fd9-e4ff-4acf-a62f-f47a31bb703f",
   "metadata": {},
   "outputs": [
    {
     "name": "stdout",
     "output_type": "stream",
     "text": [
      "- Path: datasets\n",
      "- Does the path exist? True\n",
      "- Is the path a directory/folder? True\n",
      "- Is the path a file? False\n"
     ]
    }
   ],
   "source": [
    "# Exploring Datasets Path\n",
    "print(f'- Path: {DATASETS_PATH}')\n",
    "print(f'- Does the path exist? {DATASETS_PATH.exists()}')\n",
    "print(f'- Is the path a directory/folder? {DATASETS_PATH.is_dir()}')\n",
    "print(f'- Is the path a file? {DATASETS_PATH.is_file()}')"
   ]
  },
  {
   "cell_type": "code",
   "execution_count": 45,
   "id": "bba448f1-dc10-4eb9-baab-ef274d6ff082",
   "metadata": {},
   "outputs": [
    {
     "name": "stdout",
     "output_type": "stream",
     "text": [
      "- Fetched TXT Files Path: [WindowsPath('datasets/NYT_1991-01-16-A15.txt'), WindowsPath('datasets/occupy.txt'), WindowsPath('datasets/WP_1990-08-10-25A.txt'), WindowsPath('datasets/WP_1991-01-17-A1B.txt')]\n"
     ]
    }
   ],
   "source": [
    "# Reading only TXT files\n",
    "text_files = list(DATASETS_PATH.glob(pattern='*.txt'))\n",
    "print(f'- Fetched TXT Files Path: {text_files}')"
   ]
  },
  {
   "cell_type": "code",
   "execution_count": 47,
   "id": "f138da28-9f2c-4d76-9862-396173cae26d",
   "metadata": {},
   "outputs": [],
   "source": [
    "# Reading and Removing Multiple Occurrences of Dots and Commas\n",
    "pattern = re.compile(r'(/.|,){2,}')\n",
    "\n",
    "for text_file in text_files:\n",
    "    text_content = text_file.read_text(encoding='UTF-8')\n",
    "\n",
    "    modified_text_content = pattern.sub(repl='', string=text_content)\n",
    "    modified_filename = f'modified-{text_file.name}'\n",
    "    modified_file_path = Path('datasets', 'modified', modified_filename)\n",
    "    modified_file_path.write_text(modified_text_content, encoding='UTF-8')"
   ]
  },
  {
   "cell_type": "markdown",
   "id": "c12b90ca-ad8d-4983-9277-40bf58508496",
   "metadata": {},
   "source": [
    "---\n",
    "\n",
    "<h1 id='reach-me' style='color:#7159c1; border-bottom:3px solid #7159c1; letter-spacing:2px; font-family:JetBrains Mono; font-weight: bold; text-align:left; font-size:240%;padding:0'>📫 | Reach Me</h1>\n",
    "\n",
    "> **Email** - [csfelix08@gmail.com](mailto:csfelix08@gmail.com?)\n",
    "\n",
    "> **Linkedin** - [linkedin.com/in/csfelix/](https://www.linkedin.com/in/csfelix/)\n",
    "\n",
    "> **GitHub:** - [CSFelix](https://github.com/CSFelix)\n",
    "\n",
    "> **Kaggle** - [DSFelix](https://www.kaggle.com/dsfelix)\n",
    "\n",
    "> **Portfolio** - [CSFelix.io](https://csfelix.github.io/)."
   ]
  }
 ],
 "metadata": {
  "kernelspec": {
   "display_name": "Python 3 (ipykernel)",
   "language": "python",
   "name": "python3"
  },
  "language_info": {
   "codemirror_mode": {
    "name": "ipython",
    "version": 3
   },
   "file_extension": ".py",
   "mimetype": "text/x-python",
   "name": "python",
   "nbconvert_exporter": "python",
   "pygments_lexer": "ipython3",
   "version": "3.12.7"
  }
 },
 "nbformat": 4,
 "nbformat_minor": 5
}
